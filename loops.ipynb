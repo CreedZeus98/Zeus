{
 "cells": [
  {
   "cell_type": "code",
   "execution_count": 1,
   "metadata": {},
   "outputs": [
    {
     "name": "stdout",
     "output_type": "stream",
     "text": [
      "37\n"
     ]
    }
   ],
   "source": [
    "name = 'chinnaswami muttuswami venugopal iyer'\n",
    "print(len(name))"
   ]
  },
  {
   "cell_type": "code",
   "execution_count": null,
   "metadata": {},
   "outputs": [],
   "source": [
    "for char in name:\n",
    "    print(char)"
   ]
  },
  {
   "cell_type": "code",
   "execution_count": 9,
   "metadata": {},
   "outputs": [
    {
     "name": "stdout",
     "output_type": "stream",
     "text": [
      "c\n",
      "h\n",
      "n\n",
      "n\n",
      "s\n",
      "w\n",
      "m\n",
      " \n",
      "m\n",
      "t\n",
      "t\n",
      "s\n",
      "w\n",
      "m\n",
      " \n",
      "v\n",
      "n\n",
      "g\n",
      "p\n",
      "l\n",
      " \n",
      "y\n",
      "r\n"
     ]
    }
   ],
   "source": [
    "for char in name:\n",
    "    if char not in 'aeiouAEIOU':\n",
    "        print(char)"
   ]
  },
  {
   "cell_type": "code",
   "execution_count": 13,
   "metadata": {},
   "outputs": [
    {
     "name": "stdout",
     "output_type": "stream",
     "text": [
      "red\n",
      "green\n",
      "blue\n",
      "black\n"
     ]
    }
   ],
   "source": [
    "colors = ['red','green','blue','black']\n",
    "for i in colors:\n",
    "    print(i)"
   ]
  },
  {
   "cell_type": "code",
   "execution_count": 16,
   "metadata": {},
   "outputs": [
    {
     "name": "stdout",
     "output_type": "stream",
     "text": [
      "red has 3 chars\n",
      "green has 5 chars\n",
      "blue has 4 chars\n",
      "black has 5 chars\n"
     ]
    }
   ],
   "source": [
    "for c in colors:\n",
    "    print(f'{c} has {len(c)} chars')"
   ]
  },
  {
   "attachments": {},
   "cell_type": "markdown",
   "metadata": {},
   "source": [
    "# Wap to print if the length of a string is even or odd from a list of strings"
   ]
  },
  {
   "cell_type": "code",
   "execution_count": 13,
   "metadata": {},
   "outputs": [
    {
     "name": "stdout",
     "output_type": "stream",
     "text": [
      "even\n"
     ]
    }
   ],
   "source": [
    "x = ['black','red','yellow','green','blue','sky blue']\n",
    "if len(x)%2==0:\n",
    "    print('even')\n",
    "else:\n",
    "    print('odd')"
   ]
  },
  {
   "attachments": {},
   "cell_type": "markdown",
   "metadata": {},
   "source": [
    "# 14 - feb - 2023"
   ]
  },
  {
   "attachments": {},
   "cell_type": "markdown",
   "metadata": {},
   "source": [
    "# function \n",
    "\n",
    "range (100) - 0 to 99\n",
    "range (10'50) - 10 to 49\n",
    "range (1,100,5) - 1 to 99 step 5\n",
    "range (100,0,-1) - 99 to 0 step -1\n",
    "\n"
   ]
  },
  {
   "attachments": {},
   "cell_type": "markdown",
   "metadata": {},
   "source": [
    "# More for loop\n",
    "    enumerate()\n",
    "    zip()\n",
    "    "
   ]
  },
  {
   "cell_type": "code",
   "execution_count": 10,
   "metadata": {},
   "outputs": [
    {
     "name": "stdout",
     "output_type": "stream",
     "text": [
      "jasmine\n",
      "lily\n",
      "daisy\n",
      "lotus\n"
     ]
    }
   ],
   "source": [
    "flowers = ['jasmine','lily','daisy','lotus']     # for indexing\n",
    "for flower in flowers:\n",
    "    print(flower)"
   ]
  },
  {
   "cell_type": "code",
   "execution_count": 11,
   "metadata": {},
   "outputs": [
    {
     "name": "stdout",
     "output_type": "stream",
     "text": [
      "0 jasmine\n",
      "1 lily\n",
      "2 daisy\n",
      "3 lotus\n"
     ]
    }
   ],
   "source": [
    "for i,flowers in enumerate(flowers):\n",
    "    print(i,flowers)"
   ]
  },
  {
   "cell_type": "code",
   "execution_count": 4,
   "metadata": {},
   "outputs": [
    {
     "name": "stdout",
     "output_type": "stream",
     "text": [
      "(1 + 3)**2 = 16\n",
      "(2 + 5)**2 = 49\n",
      "(3 + 6)**2 = 81\n",
      "(4 + 7)**2 = 121\n",
      "(5 + 8)**2 = 169\n",
      "(6 + 2)**2 = 64\n"
     ]
    }
   ],
   "source": [
    "x = [1,2,3,4,5,6]\n",
    "y = [3,5,6,7,8,2]\n",
    "# use the formula (a+b)**2 for each pair of values from both list\n",
    "for i,j in zip(x,y):\n",
    "    print(f'({i} + {j})**2 = {(i+j)**2}')"
   ]
  },
  {
   "attachments": {},
   "cell_type": "markdown",
   "metadata": {},
   "source": [
    "# Break & Continue"
   ]
  },
  {
   "cell_type": "code",
   "execution_count": 9,
   "metadata": {},
   "outputs": [
    {
     "name": "stdout",
     "output_type": "stream",
     "text": [
      "2\n",
      "3\n",
      "4\n",
      "6\n",
      "6\n",
      "1\n",
      "3\n",
      "3\n",
      "4\n",
      "5\n",
      "6\n",
      "7\n",
      "7\n",
      "3\n",
      "2\n",
      "1\n",
      "1\n"
     ]
    }
   ],
   "source": [
    "a = [2,3,4,0,0,0,6,6,1,0,3,3,4,0,0,5,6,7,7,3,0,0,0,2,1,1]\n",
    "for i in a:\n",
    "    if i == 0: continue\n",
    "    print(i)"
   ]
  },
  {
   "cell_type": "code",
   "execution_count": 32,
   "metadata": {},
   "outputs": [
    {
     "name": "stdout",
     "output_type": "stream",
     "text": [
      "zeus\n",
      "creed\n",
      "spartan\n"
     ]
    }
   ],
   "source": [
    "names = ['zeus','creed','spartan','','Lucario','Kratos']\n",
    "for i in names:\n",
    "    if len(i) == 0: break\n",
    "    print(i)"
   ]
  },
  {
   "cell_type": "code",
   "execution_count": 33,
   "metadata": {},
   "outputs": [
    {
     "name": "stdout",
     "output_type": "stream",
     "text": [
      "zeus\n",
      "creed\n",
      "spartan\n",
      "Error: Empty Name found\n"
     ]
    }
   ],
   "source": [
    "for i in names:\n",
    "    if len(i) == 0: \n",
    "        break\n",
    "    print(i)\n",
    "print('Error: Empty Name found')\n",
    "    \n",
    "        "
   ]
  },
  {
   "cell_type": "code",
   "execution_count": 7,
   "metadata": {},
   "outputs": [
    {
     "name": "stdout",
     "output_type": "stream",
     "text": [
      "7\n",
      "10\n",
      "13\n",
      "16\n",
      "19\n",
      "error\n"
     ]
    }
   ],
   "source": [
    "x = int(input('enter number'))\n",
    "while x <= 18:\n",
    "    x = x + 3\n",
    "    print(x)\n",
    "else:\n",
    "    print('error')\n",
    "\n"
   ]
  }
 ],
 "metadata": {
  "kernelspec": {
   "display_name": "base",
   "language": "python",
   "name": "python3"
  },
  "language_info": {
   "codemirror_mode": {
    "name": "ipython",
    "version": 3
   },
   "file_extension": ".py",
   "mimetype": "text/x-python",
   "name": "python",
   "nbconvert_exporter": "python",
   "pygments_lexer": "ipython3",
   "version": "3.10.8"
  },
  "orig_nbformat": 4,
  "vscode": {
   "interpreter": {
    "hash": "8c46ac5aaab4d3c9f2f9be91c3b9b95f2b8ede1f4aae554ca1e34eefcba1468b"
   }
  }
 },
 "nbformat": 4,
 "nbformat_minor": 2
}
