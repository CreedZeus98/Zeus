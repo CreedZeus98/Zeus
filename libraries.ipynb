{
 "cells": [
  {
   "cell_type": "code",
   "execution_count": 1,
   "metadata": {},
   "outputs": [],
   "source": [
    "from random import random, randint, choice, shuffle"
   ]
  },
  {
   "cell_type": "code",
   "execution_count": 3,
   "metadata": {},
   "outputs": [
    {
     "name": "stdout",
     "output_type": "stream",
     "text": [
      "get a random value between 0 and 1: 0.6006182774007122\n",
      "get a random integer between 50 to 100: 84\n",
      "select a random item Jane\n"
     ]
    }
   ],
   "source": [
    "print('get a random value between 0 and 1:', random())\n",
    "print('get a random integer between 50 to 100:', randint(50,100))\n",
    "print('select a random item', choice(['John','Jane','Jack','Jill','Jamie']))"
   ]
  },
  {
   "cell_type": "code",
   "execution_count": 4,
   "metadata": {},
   "outputs": [],
   "source": [
    "from datetime import datetime as dt"
   ]
  },
  {
   "cell_type": "code",
   "execution_count": 9,
   "metadata": {},
   "outputs": [
    {
     "name": "stdout",
     "output_type": "stream",
     "text": [
      "current time 2023-03-11 10:21:59.097454\n",
      "current date 2023-03-11\n",
      "current time 10:21:59.097454\n",
      "timestamp 1678510319.097454\n",
      "year 2023\n",
      "month 3\n",
      "day 11\n"
     ]
    }
   ],
   "source": [
    "print('current time',dt.now())\n",
    "print('current date',dt.now().date())\n",
    "print('current time',dt.now().time())\n",
    "print('timestamp', dt.now().timestamp())\n",
    "print('year', dt.now().year)\n",
    "print('month', dt.now().month)\n",
    "print('day', dt.now().day)"
   ]
  },
  {
   "cell_type": "code",
   "execution_count": 14,
   "metadata": {},
   "outputs": [
    {
     "name": "stdout",
     "output_type": "stream",
     "text": [
      "formatted date 11/03/23\n"
     ]
    }
   ],
   "source": [
    "date =  dt.strftime(dt.now(), '%d/%m/%y')\n",
    "print('formatted date', date)"
   ]
  },
  {
   "cell_type": "code",
   "execution_count": 16,
   "metadata": {},
   "outputs": [],
   "source": [
    "import os"
   ]
  },
  {
   "cell_type": "code",
   "execution_count": 18,
   "metadata": {},
   "outputs": [
    {
     "name": "stdout",
     "output_type": "stream",
     "text": [
      "current folder c:\\Users\\DELL\\Documents\\Zeus\n"
     ]
    }
   ],
   "source": [
    "print('current folder',os.getcwd())    # get current working directory"
   ]
  },
  {
   "cell_type": "code",
   "execution_count": 19,
   "metadata": {},
   "outputs": [
    {
     "name": "stdout",
     "output_type": "stream",
     "text": [
      "['.git', 'ccc.py', 'chase.py', 'dictionary.ipynb', 'func.ipynb', 'func2.ipynb', 'game1.py', 'heart.py', 'hello.py', 'images', 'level1.ipynb', 'libraries.ipynb', 'list.ipynb', 'loops.ipynb', 'maze.py', 'music', 'nested.py', 'practice.py', 'rose.py', 'shooting.py', 'sounds', 'strings.ipynb', 'T1.py', 'T2.py', 'T3.py', 'tuples.ipynb']\n"
     ]
    }
   ],
   "source": [
    "files = os.listdir() # get all files in the current folder\n",
    "print(files)"
   ]
  },
  {
   "cell_type": "code",
   "execution_count": 23,
   "metadata": {},
   "outputs": [
    {
     "name": "stdout",
     "output_type": "stream",
     "text": [
      "['Criterion Games', 'Custom Office Templates', 'desktop.ini', 'My Music', 'My Pictures', 'My Videos', 'Zeus']\n",
      "7\n"
     ]
    }
   ],
   "source": [
    "files = os.listdir(r'C:\\users\\Dell\\Documents')\n",
    "print(files)\n",
    "print(len(files))"
   ]
  },
  {
   "cell_type": "code",
   "execution_count": 27,
   "metadata": {},
   "outputs": [
    {
     "name": "stdout",
     "output_type": "stream",
     "text": [
      "=> C:/users/DELL/Desktop\n",
      "📁 ['d3dx9_42', 'python_setups', 'xinput1_3']\n",
      "📄 ['Aadhaar Card Upendra Srivastava .pdf', 'background.jpg', 'Bank Statement Jan 2023.pdf', 'bomb.png', 'bullet.png', 'Cancelled Cheque .pdf', 'd3dx9_42.zip', 'desktop.ini', 'DirectX 9.0_DirectX-090.zip', 'directx_Jun2010_redist.exe', 'DPO NDA FORM UPENDRA SRIVASTAVA.pdf', 'DPO NDA.pdf', 'dxwebsetup.exe', 'enemy.png', 'EPFO WEB PAGE.jpeg', 'EPFO WEB PAGE.pdf', 'Need_for_Speed_Hot_Pursuit.torrent', 'New HCL_NDA_PF Form_.pdf', 'Offer BreakUp.pdf', 'Offer Letter - 23-Feb-2023 - 05_48_10.pdf', 'Payslip Dec 2022.pdf', 'Payslip Nov 2022.pdf', 'Payslip OCT 20222.pdf', 'player.png', 'Resume Upendra.pdf', 'SAMPLE_MANOJ_New HCL_NDA_PF Form__compressed.pdf', 'SAMPLE_PRACHI_New HCL_NDA_PF Form__compressed.pdf', 'SOF 11.pdf', 'SOF Upendra .pdf', 'Upendra Domicile Certificate.pdf', 'Upendra Domicile.pdf', 'Upendra Pan Card.pdf', 'uTorrent Web.lnk', 'winter_stillness-wallpaper-1920x1080.jpg', 'xinput1_3.zip']\n",
      "---------------\n",
      "=> C:/users/DELL/Desktop\\d3dx9_42\n",
      "📁 []\n",
      "📄 ['D3DX9_42.dll', 'README.txt']\n",
      "---------------\n",
      "=> C:/users/DELL/Desktop\\python_setups\n",
      "📁 []\n",
      "📄 ['Git-2.39.0-64-bit.exe', 'Miniconda3-latest-Windows-x86_64 (install second).exe', 'mysql-workbench (dont install).msi', 'VSCodeSetup-x64-1.69.1(Install first).exe']\n",
      "---------------\n",
      "=> C:/users/DELL/Desktop\\xinput1_3\n",
      "📁 []\n",
      "📄 ['README.txt', 'xinput1_3.dll']\n",
      "---------------\n",
      "total files 43\n"
     ]
    }
   ],
   "source": [
    "total_files = 0\n",
    "for path, folders, files in os.walk('C:/users/DELL/Desktop'):\n",
    "    print('=>', path)\n",
    "    print('📁', folders)\n",
    "    print('📄', files)\n",
    "    print('-'*15)\n",
    "    total_files += len(files)\n",
    "print('total files', total_files)"
   ]
  },
  {
   "cell_type": "code",
   "execution_count": 35,
   "metadata": {},
   "outputs": [
    {
     "name": "stdout",
     "output_type": "stream",
     "text": [
      "File exists\n",
      "file size 29554860247 bytes\n",
      "file size 28862168.209960938 KB\n",
      "file size 28185.711142539978 MB\n",
      "file size 27.525108537636697 GB\n",
      "file size 0.026879988806285837 TB\n"
     ]
    }
   ],
   "source": [
    "file = (r\"E:\\New folder\\Twenty.Five.Twenty.One.S01.1080p.Korean.English.Msubs.MoviesVerse.club.zip\")\n",
    "if os.path.exists(file):\n",
    "    print('File exists')\n",
    "    size = os.path.getsize(file)\n",
    "    print('file size', size, 'bytes')\n",
    "    print('file size', size/1024, 'Kilo Bytes')\n",
    "    print('file size', size/(1024*1024), 'Mega Bytes')\n",
    "    print('file size', size/(1024*1024*1024), 'GB')\n",
    "    print('file size', size/(1024*1024*1024*1024), 'TB')\n",
    "else:\n",
    "    print('files does not exist')"
   ]
  },
  {
   "cell_type": "code",
   "execution_count": null,
   "metadata": {},
   "outputs": [],
   "source": []
  }
 ],
 "metadata": {
  "kernelspec": {
   "display_name": "base",
   "language": "python",
   "name": "python3"
  },
  "language_info": {
   "codemirror_mode": {
    "name": "ipython",
    "version": 3
   },
   "file_extension": ".py",
   "mimetype": "text/x-python",
   "name": "python",
   "nbconvert_exporter": "python",
   "pygments_lexer": "ipython3",
   "version": "3.10.8"
  },
  "orig_nbformat": 4
 },
 "nbformat": 4,
 "nbformat_minor": 2
}
