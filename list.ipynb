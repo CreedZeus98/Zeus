{
 "cells": [
  {
   "attachments": {},
   "cell_type": "markdown",
   "metadata": {},
   "source": [
    "# Data Structure\n",
    "\n",
    "1. list\n",
    "2. dict\n",
    "3. tuple\n",
    "4. set"
   ]
  },
  {
   "cell_type": "code",
   "execution_count": 2,
   "metadata": {},
   "outputs": [],
   "source": [
    "a = []  # empty list\n",
    "b = [1,2,3,4,5,67] # list of integers\n",
    "c = ['apple','banana','orange'] # list of strings\n",
    "d = [[1,2,3], [4,5,6], [7,8,9]] # list of lists (nested list)\n",
    "e = ['apple',20,False,'mango',50.5,True]"
   ]
  },
  {
   "cell_type": "code",
   "execution_count": 3,
   "metadata": {},
   "outputs": [
    {
     "name": "stdout",
     "output_type": "stream",
     "text": [
      "['t', 'h', 'e', ' ', 'l', 'o', 's', 't', ' ', 'm', 'e', 't', 'a', 'l']\n"
     ]
    }
   ],
   "source": [
    "word = 'the lost metal'\n",
    "chars = list(word)\n",
    "print(chars)"
   ]
  },
  {
   "cell_type": "code",
   "execution_count": 5,
   "metadata": {},
   "outputs": [
    {
     "name": "stdout",
     "output_type": "stream",
     "text": [
      "[1, 2, 3, 1, 2, 3, 1, 2, 3, 1, 2, 3, 1, 2, 3]\n"
     ]
    }
   ],
   "source": [
    "f = [1,2,3] * 5 # repeat list 5 times\n",
    "print(f)"
   ]
  },
  {
   "cell_type": "code",
   "execution_count": 6,
   "metadata": {},
   "outputs": [
    {
     "data": {
      "text/plain": [
       "[]"
      ]
     },
     "execution_count": 6,
     "metadata": {},
     "output_type": "execute_result"
    }
   ],
   "source": [
    "a"
   ]
  },
  {
   "cell_type": "code",
   "execution_count": 11,
   "metadata": {},
   "outputs": [],
   "source": [
    "name = input('Kaun ho bhai')\n",
    "a.append(name)"
   ]
  },
  {
   "cell_type": "code",
   "execution_count": 12,
   "metadata": {},
   "outputs": [
    {
     "name": "stdout",
     "output_type": "stream",
     "text": [
      "Upendra\n"
     ]
    }
   ],
   "source": [
    "print(name)"
   ]
  },
  {
   "cell_type": "code",
   "execution_count": 14,
   "metadata": {},
   "outputs": [],
   "source": [
    "x = ['Avatar','Avengers: Endgame','Avatar: The Way of Water','Titanic','Star Wars: The Force Awakens','Avengers: Infinity War','Spider-Man: No Way Home','Jurassic World','The Lion King','The Avengers',\n",
    "'Furious 7','Top Gun: Maverick','Frozen','Avengers: Age of Ultron','Black Panther']"
   ]
  },
  {
   "cell_type": "code",
   "execution_count": 16,
   "metadata": {},
   "outputs": [
    {
     "data": {
      "text/plain": [
       "15"
      ]
     },
     "execution_count": 16,
     "metadata": {},
     "output_type": "execute_result"
    }
   ],
   "source": [
    "len(x)"
   ]
  },
  {
   "cell_type": "code",
   "execution_count": 17,
   "metadata": {},
   "outputs": [
    {
     "name": "stdout",
     "output_type": "stream",
     "text": [
      "Star Wars: The Force Awakens\n",
      "Avengers: Age of Ultron\n"
     ]
    }
   ],
   "source": [
    "print(x[4])\n",
    "print(x[-2])"
   ]
  },
  {
   "cell_type": "code",
   "execution_count": 19,
   "metadata": {},
   "outputs": [],
   "source": [
    "x [6] = 'Interstellar'"
   ]
  },
  {
   "cell_type": "code",
   "execution_count": 20,
   "metadata": {},
   "outputs": [
    {
     "name": "stdout",
     "output_type": "stream",
     "text": [
      "['Avatar', 'Avengers: Endgame', 'Avatar: The Way of Water', 'Titanic', 'Star Wars: The Force Awakens', 'Avengers: Infinity War', 'Interstellar', 'Jurassic World', 'The Lion King', 'The Avengers', 'Furious 7', 'Top Gun: Maverick', 'Frozen', 'Avengers: Age of Ultron', 'Black Panther']\n"
     ]
    }
   ],
   "source": [
    "print(x)"
   ]
  },
  {
   "cell_type": "code",
   "execution_count": 25,
   "metadata": {},
   "outputs": [
    {
     "name": "stdout",
     "output_type": "stream",
     "text": [
      "['Avatar', 'Avengers: Endgame', 'Avatar: The Way of Water', 'Titanic', 'Star Wars: The Force Awakens']\n",
      "['Furious 7', 'Top Gun: Maverick', 'Frozen', 'Avengers: Age of Ultron', 'Black Panther']\n",
      "['Titanic', 'Star Wars: The Force Awakens', 'Avengers: Infinity War', 'Interstellar', 'Jurassic World', 'The Lion King', 'The Avengers', 'Furious 7', 'Top Gun: Maverick']\n",
      "['Black Panther', 'Avengers: Age of Ultron', 'Frozen', 'Top Gun: Maverick', 'Furious 7', 'The Avengers', 'The Lion King', 'Jurassic World', 'Interstellar', 'Avengers: Infinity War', 'Star Wars: The Force Awakens', 'Titanic', 'Avatar: The Way of Water', 'Avengers: Endgame', 'Avatar']\n",
      "['Avatar', 'Avatar: The Way of Water', 'Star Wars: The Force Awakens', 'Interstellar', 'The Lion King', 'Furious 7', 'Frozen', 'Black Panther']\n"
     ]
    }
   ],
   "source": [
    "# first 5 movies\n",
    "print(x[:5])\n",
    "# last 5 movies\n",
    "print(x[-5:])\n",
    "# all movies except first 3 and last 3\n",
    "print(x[3:-3])\n",
    "# all movies but in reverse order\n",
    "print(x[::-1])\n",
    "# only even indexed movies\n",
    "print(x[::2])"
   ]
  },
  {
   "cell_type": "code",
   "execution_count": null,
   "metadata": {},
   "outputs": [],
   "source": []
  }
 ],
 "metadata": {
  "kernelspec": {
   "display_name": "base",
   "language": "python",
   "name": "python3"
  },
  "language_info": {
   "codemirror_mode": {
    "name": "ipython",
    "version": 3
   },
   "file_extension": ".py",
   "mimetype": "text/x-python",
   "name": "python",
   "nbconvert_exporter": "python",
   "pygments_lexer": "ipython3",
   "version": "3.10.8"
  },
  "orig_nbformat": 4,
  "vscode": {
   "interpreter": {
    "hash": "8c46ac5aaab4d3c9f2f9be91c3b9b95f2b8ede1f4aae554ca1e34eefcba1468b"
   }
  }
 },
 "nbformat": 4,
 "nbformat_minor": 2
}
