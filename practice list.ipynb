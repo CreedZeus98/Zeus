{
 "cells": [
  {
   "attachments": {},
   "cell_type": "markdown",
   "metadata": {},
   "source": [
    "Write a program that creates an empty list and then asks the user to input integers to add to the list. Print the final list.\n"
   ]
  },
  {
   "cell_type": "code",
   "execution_count": 13,
   "metadata": {},
   "outputs": [
    {
     "name": "stdout",
     "output_type": "stream",
     "text": [
      "['1,5,6,8']\n"
     ]
    }
   ],
   "source": [
    "list = []\n",
    "a = input('Enter a List')\n",
    "list.append(a)\n",
    "print(list)"
   ]
  },
  {
   "cell_type": "markdown",
   "metadata": {},
   "source": [
    "Write a program that creates a list of integers and then asks the user to input an integer to check if it exists in the list. Print a message indicating whether the integer is in the list or not."
   ]
  },
  {
   "cell_type": "code",
   "execution_count": 5,
   "metadata": {},
   "outputs": [
    {
     "name": "stdout",
     "output_type": "stream",
     "text": [
      "5 is in the list\n"
     ]
    }
   ],
   "source": [
    "l = [4,5,6,8,4,9]\n",
    "n = int(input('Enter a Number'))\n",
    "\n",
    "if n in l:\n",
    "    print(n,\"is in the list\")\n",
    "else:\n",
    "    print(n,\"is not in the list\")"
   ]
  },
  {
   "attachments": {},
   "cell_type": "markdown",
   "metadata": {},
   "source": [
    "Write a program that creates a list of strings and then sorts the list alphabetically. Print the sorted list."
   ]
  },
  {
   "cell_type": "code",
   "execution_count": 9,
   "metadata": {},
   "outputs": [
    {
     "name": "stdout",
     "output_type": "stream",
     "text": [
      "['B', 'C', 'D', 'H', 'L', 'M', 'O', 'Q', 'R', 'R', 'S', 'T', 'U', 'V', 'Z']\n"
     ]
    }
   ],
   "source": [
    "a = ['L','B','R','Q','O','M','C','R','S','H','T','Z','V','U','D']\n",
    "a.sort()\n",
    "print(a)\n",
    "\n"
   ]
  },
  {
   "attachments": {},
   "cell_type": "markdown",
   "metadata": {},
   "source": [
    "Write a program that creates a list of integers and then finds the maximum value in the list. Print the maximum value"
   ]
  },
  {
   "cell_type": "code",
   "execution_count": 13,
   "metadata": {},
   "outputs": [
    {
     "name": "stdout",
     "output_type": "stream",
     "text": [
      "Maximum Value in the list is 256987\n"
     ]
    }
   ],
   "source": [
    "l = [44,88,5,969,1025,4756,256987,12]\n",
    "m_v = max(l)\n",
    "print('Maximum Value in the list is',m_v)"
   ]
  },
  {
   "attachments": {},
   "cell_type": "markdown",
   "metadata": {},
   "source": [
    "Write a program that creates two lists of integers and then finds the common elements between those two lists. Print the common elements."
   ]
  },
  {
   "cell_type": "code",
   "execution_count": 17,
   "metadata": {},
   "outputs": [
    {
     "name": "stdout",
     "output_type": "stream",
     "text": [
      "Common Eelements in both list = [4, 5, 6]\n"
     ]
    }
   ],
   "source": [
    "a = [1,2,3,4,5,6]\n",
    "b = [6,5,4,8,9,7]\n",
    "\n",
    "c = [value for value in a if value in b]\n",
    "print('Common Eelements in both list =',c)\n"
   ]
  },
  {
   "attachments": {},
   "cell_type": "markdown",
   "metadata": {},
   "source": [
    "Write a program that creates a list of strings and then removes all elements that contain a specific substring. Print the final list"
   ]
  },
  {
   "cell_type": "code",
   "execution_count": 45,
   "metadata": {},
   "outputs": [
    {
     "name": "stdout",
     "output_type": "stream",
     "text": [
      "['w ', 'g t', 'hat ', 'tog th r']\n"
     ]
    }
   ],
   "source": [
    "s = ['we','get','hate','together']\n",
    "k = [sub.replace('e',' ') for sub in s]\n",
    "print(k)"
   ]
  },
  {
   "attachments": {},
   "cell_type": "markdown",
   "metadata": {},
   "source": [
    "Write a program that creates a nested list and then accesses a specific element in the list. Print the accessed element."
   ]
  },
  {
   "cell_type": "code",
   "execution_count": 28,
   "metadata": {},
   "outputs": [
    {
     "name": "stdout",
     "output_type": "stream",
     "text": [
      "a\n",
      "b\n",
      "bb\n",
      "ccc\n",
      "['ccc', 'ddd']\n",
      "ddd\n",
      "ff\n",
      "ee\n",
      "ccc\n"
     ]
    }
   ],
   "source": [
    "L = ['a', ['bb', ['ccc', 'ddd'], 'ee', 'ff'], 'g', 'h']\n",
    "print(L[0])\n",
    "print(L[1][0][0])\n",
    "print(L[1][0])\n",
    "print(L[1][1][0])\n",
    "print(L[1][1])\n",
    "print(L[-3][-3][-1])\n",
    "print(L[-3][-1])\n",
    "print(L[-3][-2])\n",
    "print(L[-3][-3][-2])\n"
   ]
  },
  {
   "attachments": {},
   "cell_type": "markdown",
   "metadata": {},
   "source": [
    "Write a program that creates a list of integers and then removes all duplicates from the list. Print the final list."
   ]
  },
  {
   "cell_type": "code",
   "execution_count": 42,
   "metadata": {},
   "outputs": [
    {
     "name": "stdout",
     "output_type": "stream",
     "text": [
      "Final List =  [1, 2, 3, 4, 5, 6, 7, 8, 9]\n"
     ]
    }
   ],
   "source": [
    "l =[1,1,2,2,6,5,5,4,9,8,3,3,7,8]\n",
    "i = set(l)\n",
    "print(\"Final List = \",list(i))"
   ]
  },
  {
   "attachments": {},
   "cell_type": "markdown",
   "metadata": {},
   "source": [
    "Write a program that creates a list of strings and then finds the longest string in the list. Print the longest string."
   ]
  },
  {
   "cell_type": "code",
   "execution_count": 50,
   "metadata": {},
   "outputs": [
    {
     "name": "stdout",
     "output_type": "stream",
     "text": [
      "Longest String is Agent Schrader\n"
     ]
    }
   ],
   "source": [
    "my_list =['Breaking Bad','Walter White','Jessy Pinkman','Gustavo Fring','Agent Schrader']\n",
    "i = max(my_list,key=len)   \n",
    "print('Longest String is',i)"
   ]
  },
  {
   "attachments": {},
   "cell_type": "markdown",
   "metadata": {},
   "source": [
    "Write a program that creates a list of integers and then finds the sum of all the even numbers in the list. Print the sum"
   ]
  },
  {
   "cell_type": "code",
   "execution_count": 68,
   "metadata": {},
   "outputs": [
    {
     "name": "stdout",
     "output_type": "stream",
     "text": [
      "24\n"
     ]
    }
   ],
   "source": [
    "list = [2,4,5,4,1,4,5,8,2]\n",
    "sum = 0\n",
    "\n",
    "for i in range(0,9):\n",
    "    if list[i]%2 == 0:\n",
    "        sum = sum +list[i]\n",
    "\n",
    "print(sum)"
   ]
  },
  {
   "attachments": {},
   "cell_type": "markdown",
   "metadata": {},
   "source": [
    "Write a program that creates a list of integers and then asks the user to input a position to remove an element from the list. Print the final list."
   ]
  },
  {
   "cell_type": "code",
   "execution_count": 77,
   "metadata": {},
   "outputs": [
    {
     "name": "stdout",
     "output_type": "stream",
     "text": [
      "Enter Index = 5\n",
      "Final List = [4, 8, 6, 9, 8, 6, 7, 85, 4]\n"
     ]
    }
   ],
   "source": [
    "lst = [4,8,6,9,8,45,6,7,85,4]\n",
    "n = int(input('Enter Number'))\n",
    "print(\"Enter Index =\",n)\n",
    "lst.pop(n)\n",
    "print('Final List =',lst)"
   ]
  },
  {
   "attachments": {},
   "cell_type": "markdown",
   "metadata": {},
   "source": [
    "Write a program that creates a list of strings and then concatenates all the strings into a single string. Print the final string."
   ]
  },
  {
   "cell_type": "code",
   "execution_count": 81,
   "metadata": {},
   "outputs": [
    {
     "name": "stdout",
     "output_type": "stream",
     "text": [
      "My Name is Zeus\n"
     ]
    }
   ],
   "source": [
    "s = ['My','Name','is','Zeus']\n",
    "s = ' '.join(s)\n",
    "print(s)"
   ]
  },
  {
   "attachments": {},
   "cell_type": "markdown",
   "metadata": {},
   "source": [
    "Write a program that creates a list of integers and then finds the median value of the list. Print the median."
   ]
  },
  {
   "cell_type": "code",
   "execution_count": 12,
   "metadata": {},
   "outputs": [
    {
     "name": "stdout",
     "output_type": "stream",
     "text": [
      "Median Value = 35\n",
      "Median is = 17.5\n"
     ]
    }
   ],
   "source": [
    "l = [3,5,7,12,13,14,21,23,29,39,40,56]\n",
    "mid = l[5]+l[-6]\n",
    "print(\"Median Value =\", mid)\n",
    "x = mid/2\n",
    "print(\"Median is =\",x)"
   ]
  },
  {
   "cell_type": "code",
   "execution_count": 16,
   "metadata": {},
   "outputs": [
    {
     "name": "stdout",
     "output_type": "stream",
     "text": [
      "17.5\n"
     ]
    }
   ],
   "source": [
    "l = [3, 5, 7, 12, 13, 14, 21, 23, 29, 39, 40, 56]\n",
    "l.sort()\n",
    "mid = len(l) // 2\n",
    "x = (l[mid] + l[~mid]) / 2\n",
    "print(x)"
   ]
  },
  {
   "attachments": {},
   "cell_type": "markdown",
   "metadata": {},
   "source": [
    "Write a program that creates a list of strings and then reverses the order of the strings in the list. Print the reversed list"
   ]
  },
  {
   "cell_type": "code",
   "execution_count": 19,
   "metadata": {},
   "outputs": [
    {
     "name": "stdout",
     "output_type": "stream",
     "text": [
      "Unreversed list = ['zeus', 'kratos', 'ethan', 'logan']\n",
      "Reversed list = ['logan', 'ethan', 'kratos', 'zeus']\n"
     ]
    }
   ],
   "source": [
    "l = ['zeus','kratos','ethan','logan']\n",
    "print('Unreversed list =',l)\n",
    "l.reverse()\n",
    "print('Reversed list =',l)"
   ]
  },
  {
   "cell_type": "code",
   "execution_count": 20,
   "metadata": {},
   "outputs": [
    {
     "name": "stdout",
     "output_type": "stream",
     "text": [
      "['logan', 'ethan', 'kratos', 'zeus']\n"
     ]
    }
   ],
   "source": [
    "l = ['zeus','kratos','ethan','logan']\n",
    "rev_list = l[::-1]\n",
    "print(rev_list)"
   ]
  },
  {
   "attachments": {},
   "cell_type": "markdown",
   "metadata": {},
   "source": [
    "Write a program that creates a list of integers and then calculates the average of all the numbers in the list. Print the average.\n"
   ]
  },
  {
   "cell_type": "code",
   "execution_count": 30,
   "metadata": {},
   "outputs": [
    {
     "name": "stdout",
     "output_type": "stream",
     "text": [
      "Sum = 262\n",
      "Length = 12\n",
      "\n",
      "Average = 21.833333333333332\n"
     ]
    }
   ],
   "source": [
    "i = [3, 5, 7, 12, 13, 14, 21, 23, 29, 39, 40, 56]\n",
    "s = sum(i)\n",
    "print('Sum =',s)        # sum of the all numbers in the list\n",
    "l = len(i)\n",
    "print('Length =',l)     # length of the list\n",
    "avg = s/l\n",
    "print()\n",
    "print('Average =',avg)"
   ]
  },
  {
   "cell_type": "code",
   "execution_count": null,
   "metadata": {},
   "outputs": [],
   "source": []
  }
 ],
 "metadata": {
  "kernelspec": {
   "display_name": "base",
   "language": "python",
   "name": "python3"
  },
  "language_info": {
   "codemirror_mode": {
    "name": "ipython",
    "version": 3
   },
   "file_extension": ".py",
   "mimetype": "text/x-python",
   "name": "python",
   "nbconvert_exporter": "python",
   "pygments_lexer": "ipython3",
   "version": "3.10.8"
  },
  "orig_nbformat": 4
 },
 "nbformat": 4,
 "nbformat_minor": 2
}
