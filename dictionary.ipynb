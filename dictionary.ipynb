{
 "cells": [
  {
   "attachments": {},
   "cell_type": "markdown",
   "metadata": {},
   "source": [
    "# dictionary\n",
    "- ordered data structure\n",
    "- unindexed, mutable\n",
    "- key : value pair\n",
    "- key is immutable, unique\n",
    "- value is mutable and can be duplicated and heterogeneous\n",
    "- dictionary can be nested\n",
    "- dictionary can be created using dict() function\n",
    "- dictionary can be created using{} curly braces"
   ]
  },
  {
   "cell_type": "code",
   "execution_count": 37,
   "metadata": {},
   "outputs": [
    {
     "name": "stdout",
     "output_type": "stream",
     "text": [
      "['brandon sanderson', 'the lost metal', '7', 'Fantasy', '2022', '10.00']\n"
     ]
    }
   ],
   "source": [
    "details = ['brandon sanderson','the lost metal','7','Fantasy','2022','10.00']\n",
    "print(details)"
   ]
  },
  {
   "cell_type": "code",
   "execution_count": 38,
   "metadata": {},
   "outputs": [],
   "source": [
    "details_dict = {\n",
    "    'Author': 'Brandon Sanderson',\n",
    "    'Title' : 'the lost metal',\n",
    "    'Part':'7',\n",
    "    'Genre':'Fantasy',\n",
    "    'Release Date':'2022',\n",
    "    'Price':'$10.00'\n",
    "}"
   ]
  },
  {
   "cell_type": "code",
   "execution_count": 39,
   "metadata": {},
   "outputs": [
    {
     "name": "stdout",
     "output_type": "stream",
     "text": [
      "{'Author': 'Brandon Sanderson', 'Title': 'the lost metal', 'Part': '7', 'Genre': 'Fantasy', 'Release Date': '2022', 'Price': '$10.00'}\n",
      "<class 'dict'>\n"
     ]
    }
   ],
   "source": [
    "print(details_dict)\n",
    "print(type(details_dict))"
   ]
  },
  {
   "cell_type": "code",
   "execution_count": 40,
   "metadata": {},
   "outputs": [
    {
     "data": {
      "text/plain": [
       "'Brandon Sanderson'"
      ]
     },
     "execution_count": 40,
     "metadata": {},
     "output_type": "execute_result"
    }
   ],
   "source": [
    "details_dict['Author']"
   ]
  },
  {
   "cell_type": "code",
   "execution_count": 41,
   "metadata": {},
   "outputs": [],
   "source": [
    "details_dict['Release Date'] = '15 Nov,22'"
   ]
  },
  {
   "cell_type": "code",
   "execution_count": 42,
   "metadata": {},
   "outputs": [
    {
     "data": {
      "text/plain": [
       "{'Author': 'Brandon Sanderson',\n",
       " 'Title': 'the lost metal',\n",
       " 'Part': '7',\n",
       " 'Genre': 'Fantasy',\n",
       " 'Release Date': '15 Nov,22',\n",
       " 'Price': '$10.00'}"
      ]
     },
     "execution_count": 42,
     "metadata": {},
     "output_type": "execute_result"
    }
   ],
   "source": [
    "details_dict"
   ]
  },
  {
   "cell_type": "code",
   "execution_count": 43,
   "metadata": {},
   "outputs": [],
   "source": [
    "s_dict ={\n",
    "    'Name' : 'Zeus',\n",
    "    'Age' : 25,\n",
    "    'Class' : 'B.Tech',\n",
    "    'Language' : 'Python',\n",
    "    'Father Name' : 'Pradeep Srivastava',\n",
    "    'Date of Birth' : '02 Jun,1998',\n",
    "    'Coaching' : 'Digipodium'\n",
    "\n",
    "}"
   ]
  },
  {
   "cell_type": "code",
   "execution_count": 44,
   "metadata": {},
   "outputs": [
    {
     "name": "stdout",
     "output_type": "stream",
     "text": [
      "{'Name': 'Zeus', 'Age': 25, 'Class': 'B.Tech', 'Language': 'Python', 'Father Name': 'Pradeep Srivastava', 'Date of Birth': '02 Jun,1998', 'Coaching': 'Digipodium'}\n"
     ]
    }
   ],
   "source": [
    "print(s_dict)"
   ]
  },
  {
   "cell_type": "code",
   "execution_count": 45,
   "metadata": {},
   "outputs": [
    {
     "data": {
      "text/plain": [
       "{'Name': 'Zeus',\n",
       " 'Age': 25,\n",
       " 'Class': 'B.Tech',\n",
       " 'Language': 'Python',\n",
       " 'Father Name': 'Pradeep Srivastava',\n",
       " 'Date of Birth': '02 Jun,1998',\n",
       " 'Coaching': 'Digipodium'}"
      ]
     },
     "execution_count": 45,
     "metadata": {},
     "output_type": "execute_result"
    }
   ],
   "source": [
    "s_dict"
   ]
  },
  {
   "cell_type": "code",
   "execution_count": 46,
   "metadata": {},
   "outputs": [],
   "source": [
    "s_dict['Language'] = 'Java'"
   ]
  },
  {
   "cell_type": "code",
   "execution_count": 47,
   "metadata": {},
   "outputs": [
    {
     "data": {
      "text/plain": [
       "{'Name': 'Zeus',\n",
       " 'Age': 25,\n",
       " 'Class': 'B.Tech',\n",
       " 'Language': 'Java',\n",
       " 'Father Name': 'Pradeep Srivastava',\n",
       " 'Date of Birth': '02 Jun,1998',\n",
       " 'Coaching': 'Digipodium'}"
      ]
     },
     "execution_count": 47,
     "metadata": {},
     "output_type": "execute_result"
    }
   ],
   "source": [
    "s_dict"
   ]
  },
  {
   "cell_type": "code",
   "execution_count": 48,
   "metadata": {},
   "outputs": [],
   "source": [
    "s_dict['Name'] = 'Upendra Srivastava'"
   ]
  },
  {
   "cell_type": "code",
   "execution_count": 49,
   "metadata": {},
   "outputs": [
    {
     "data": {
      "text/plain": [
       "{'Name': 'Upendra Srivastava',\n",
       " 'Age': 25,\n",
       " 'Class': 'B.Tech',\n",
       " 'Language': 'Java',\n",
       " 'Father Name': 'Pradeep Srivastava',\n",
       " 'Date of Birth': '02 Jun,1998',\n",
       " 'Coaching': 'Digipodium'}"
      ]
     },
     "execution_count": 49,
     "metadata": {},
     "output_type": "execute_result"
    }
   ],
   "source": [
    "s_dict"
   ]
  },
  {
   "cell_type": "code",
   "execution_count": 50,
   "metadata": {},
   "outputs": [],
   "source": [
    "details_dict['Pages'] = 528"
   ]
  },
  {
   "cell_type": "code",
   "execution_count": 51,
   "metadata": {},
   "outputs": [
    {
     "data": {
      "text/plain": [
       "{'Author': 'Brandon Sanderson',\n",
       " 'Title': 'the lost metal',\n",
       " 'Part': '7',\n",
       " 'Genre': 'Fantasy',\n",
       " 'Release Date': '15 Nov,22',\n",
       " 'Price': '$10.00',\n",
       " 'Pages': 528}"
      ]
     },
     "execution_count": 51,
     "metadata": {},
     "output_type": "execute_result"
    }
   ],
   "source": [
    "details_dict"
   ]
  },
  {
   "cell_type": "code",
   "execution_count": 53,
   "metadata": {},
   "outputs": [
    {
     "name": "stdout",
     "output_type": "stream",
     "text": [
      "Author\n",
      "Title\n",
      "Part\n",
      "Genre\n",
      "Release Date\n",
      "Price\n",
      "Pages\n"
     ]
    }
   ],
   "source": [
    "for i in details_dict:          # for Keys\n",
    "    print(i)\n"
   ]
  },
  {
   "cell_type": "code",
   "execution_count": 56,
   "metadata": {},
   "outputs": [
    {
     "name": "stdout",
     "output_type": "stream",
     "text": [
      "Brandon Sanderson\n",
      "the lost metal\n",
      "7\n",
      "Fantasy\n",
      "15 Nov,22\n",
      "$10.00\n",
      "528\n"
     ]
    }
   ],
   "source": [
    "# For Values\n",
    "\n",
    "for i in details_dict:\n",
    "    print(details_dict[i])"
   ]
  },
  {
   "cell_type": "code",
   "execution_count": 59,
   "metadata": {},
   "outputs": [
    {
     "name": "stdout",
     "output_type": "stream",
     "text": [
      "Author          Brandon Sanderson\n",
      "Title           the lost metal\n",
      "Part            7\n",
      "Genre           Fantasy\n",
      "Release Date    15 Nov,22\n",
      "Price           $10.00\n",
      "Pages           528\n"
     ]
    }
   ],
   "source": [
    "for i,j in details_dict.items():\n",
    "    print(f'{i:15} {j}')"
   ]
  },
  {
   "cell_type": "code",
   "execution_count": 60,
   "metadata": {},
   "outputs": [
    {
     "data": {
      "text/plain": [
       "['Brandon Sanderson',\n",
       " 'the lost metal',\n",
       " '7',\n",
       " 'Fantasy',\n",
       " '15 Nov,22',\n",
       " '$10.00',\n",
       " 528]"
      ]
     },
     "execution_count": 60,
     "metadata": {},
     "output_type": "execute_result"
    }
   ],
   "source": [
    "list(details_dict.values())"
   ]
  },
  {
   "cell_type": "code",
   "execution_count": 62,
   "metadata": {},
   "outputs": [
    {
     "data": {
      "text/plain": [
       "['Author', 'Title', 'Part', 'Genre', 'Release Date', 'Price', 'Pages']"
      ]
     },
     "execution_count": 62,
     "metadata": {},
     "output_type": "execute_result"
    }
   ],
   "source": [
    "list(details_dict.keys())"
   ]
  },
  {
   "cell_type": "code",
   "execution_count": 66,
   "metadata": {},
   "outputs": [
    {
     "data": {
      "text/plain": [
       "528"
      ]
     },
     "execution_count": 66,
     "metadata": {},
     "output_type": "execute_result"
    }
   ],
   "source": [
    "details_dict.get('Pages',0)"
   ]
  },
  {
   "cell_type": "code",
   "execution_count": null,
   "metadata": {},
   "outputs": [],
   "source": []
  }
 ],
 "metadata": {
  "kernelspec": {
   "display_name": "base",
   "language": "python",
   "name": "python3"
  },
  "language_info": {
   "codemirror_mode": {
    "name": "ipython",
    "version": 3
   },
   "file_extension": ".py",
   "mimetype": "text/x-python",
   "name": "python",
   "nbconvert_exporter": "python",
   "pygments_lexer": "ipython3",
   "version": "3.10.8"
  },
  "orig_nbformat": 4
 },
 "nbformat": 4,
 "nbformat_minor": 2
}
