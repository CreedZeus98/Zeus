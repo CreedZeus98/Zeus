{
 "cells": [
  {
   "attachments": {},
   "cell_type": "markdown",
   "metadata": {},
   "source": [
    "Syntax\n",
    "    python\n",
    "\n",
    "def fun_name(<parameters........>):\n",
    "    statment 1\n",
    "    statement 2\n",
    "    ....\n",
    "    statement n\n",
    "    <return values....>\n",
    "\n"
   ]
  },
  {
   "attachments": {},
   "cell_type": "markdown",
   "metadata": {},
   "source": [
    "# Non Parameterized, Non Returning Functions"
   ]
  },
  {
   "cell_type": "code",
   "execution_count": 1,
   "metadata": {},
   "outputs": [],
   "source": [
    "# defining a function\n",
    "def greeting():\n",
    "    print('Good Morning')\n",
    "    print('Zeus')\n",
    "    print('Lucario')\n",
    "    print('Suiiiii')"
   ]
  },
  {
   "cell_type": "code",
   "execution_count": 2,
   "metadata": {},
   "outputs": [
    {
     "name": "stdout",
     "output_type": "stream",
     "text": [
      "Good Morning\n",
      "Zeus\n",
      "Lucario\n",
      "Suiiiii\n"
     ]
    }
   ],
   "source": [
    "# call / use\n",
    "greeting()"
   ]
  },
  {
   "cell_type": "code",
   "execution_count": 3,
   "metadata": {},
   "outputs": [
    {
     "data": {
      "text/plain": [
       "5"
      ]
     },
     "execution_count": 3,
     "metadata": {},
     "output_type": "execute_result"
    }
   ],
   "source": [
    "len('hello')"
   ]
  },
  {
   "cell_type": "code",
   "execution_count": 5,
   "metadata": {},
   "outputs": [
    {
     "name": "stdout",
     "output_type": "stream",
     "text": [
      "Good Morning\n",
      "Zeus\n",
      "Lucario\n",
      "Suiiiii\n"
     ]
    }
   ],
   "source": [
    "greeting()"
   ]
  },
  {
   "attachments": {},
   "cell_type": "markdown",
   "metadata": {},
   "source": [
    "# Function returning a value"
   ]
  },
  {
   "cell_type": "code",
   "execution_count": 19,
   "metadata": {},
   "outputs": [],
   "source": [
    "def random5():\n",
    "    from random import choices\n",
    "    x = list('🤢👀🎉🛴🛹🚚🚗😋😒😊❤🚚😂🤷‍♀️✌🤷‍♀️🙌😊')\n",
    "    return \" \".join(choices(x, k=5))"
   ]
  },
  {
   "cell_type": "code",
   "execution_count": 27,
   "metadata": {},
   "outputs": [
    {
     "name": "stdout",
     "output_type": "stream",
     "text": [
      "😊 😊 🚗 😊 😋\n"
     ]
    }
   ],
   "source": [
    "ans = random5()\n",
    "print(ans)"
   ]
  },
  {
   "cell_type": "code",
   "execution_count": 28,
   "metadata": {},
   "outputs": [
    {
     "name": "stdout",
     "output_type": "stream",
     "text": [
      "-> 🛹 🤷 ️ ‍ ♀\n",
      "-> 😊 ❤ 🛴 🛴 🚗\n",
      "-> 🚗 🤷 ♀ 🤢 😋\n",
      "-> 🤷 🎉 ♀ ‍ 😋\n",
      "-> ‍ ‍ 🤷 ♀ ‍\n"
     ]
    }
   ],
   "source": [
    "for i in range(5):\n",
    "    print(f'-> {random5()}')"
   ]
  }
 ],
 "metadata": {
  "kernelspec": {
   "display_name": "base",
   "language": "python",
   "name": "python3"
  },
  "language_info": {
   "codemirror_mode": {
    "name": "ipython",
    "version": 3
   },
   "file_extension": ".py",
   "mimetype": "text/x-python",
   "name": "python",
   "nbconvert_exporter": "python",
   "pygments_lexer": "ipython3",
   "version": "3.10.8"
  },
  "orig_nbformat": 4,
  "vscode": {
   "interpreter": {
    "hash": "8c46ac5aaab4d3c9f2f9be91c3b9b95f2b8ede1f4aae554ca1e34eefcba1468b"
   }
  }
 },
 "nbformat": 4,
 "nbformat_minor": 2
}
