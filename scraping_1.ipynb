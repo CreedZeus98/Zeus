{
 "cells": [
  {
   "cell_type": "code",
   "execution_count": 1,
   "metadata": {},
   "outputs": [],
   "source": [
    "from dputils.scrape import Scraper, Tag\n"
   ]
  },
  {
   "cell_type": "code",
   "execution_count": 3,
   "metadata": {},
   "outputs": [],
   "source": [
    "sc = Scraper(\"https://www.flipkart.com/steelbird-sbh-17-terminator-full-face-graphic-helmet-motorbike/p/itm7dc3b4fa6468b?pid=HLMFT8H9FDWTRJTR&lid=LSTHLMFT8H9FDWTRJTRFAK5XG&marketplace=FLIPKART&store=1mt%2Fztf%2Fiv8%2Ftih&srno=b_1_1&otracker=hp_omu_Beauty%252C%2BFood%252C%2BToys%2B%2526%2Bmore_3_6.dealCard.OMU_V5VSIKF9EZSQ_4&otracker1=hp_omu_PINNED_neo%2Fmerchandising_Beauty%252C%2BFood%252C%2BToys%2B%2526%2Bmore_NA_dealCard_cc_3_NA_view-all_4&fm=neo%2Fmerchandising&iid=en_nGZrxIORvtsjOxnznUIMMWGvWsEnaKBaIunOVgsJTWUpH6bZBfS4hMaVijjDE60eNTw3rktIReV5xcA4wZ6Cxw%3D%3D&ppt=hp&ppn=homepage&ssid=7u0v8c4wdc0000001679980264008\")"
   ]
  },
  {
   "cell_type": "code",
   "execution_count": null,
   "metadata": {},
   "outputs": [],
   "source": [
    "print(sc.soup)"
   ]
  },
  {
   "cell_type": "code",
   "execution_count": 7,
   "metadata": {},
   "outputs": [
    {
     "data": {
      "text/plain": [
       "<title>Steelbird SBH-17 Terminator Full Face Graphic Helmet Motorbike Helmet - Buy Steelbird SBH-17 Terminator Full Face Graphic Helmet Motorbike Helmet Online at Best Prices in India - Motorbike | Flipkart.com</title>"
      ]
     },
     "execution_count": 7,
     "metadata": {},
     "output_type": "execute_result"
    }
   ],
   "source": [
    "sc.soup.title                       # for title of the bookmark"
   ]
  },
  {
   "cell_type": "code",
   "execution_count": null,
   "metadata": {},
   "outputs": [],
   "source": [
    "sc.soup.find_all('a')"
   ]
  },
  {
   "cell_type": "code",
   "execution_count": null,
   "metadata": {},
   "outputs": [],
   "source": []
  }
 ],
 "metadata": {
  "kernelspec": {
   "display_name": "base",
   "language": "python",
   "name": "python3"
  },
  "language_info": {
   "codemirror_mode": {
    "name": "ipython",
    "version": 3
   },
   "file_extension": ".py",
   "mimetype": "text/x-python",
   "name": "python",
   "nbconvert_exporter": "python",
   "pygments_lexer": "ipython3",
   "version": "3.10.8"
  },
  "orig_nbformat": 4
 },
 "nbformat": 4,
 "nbformat_minor": 2
}
