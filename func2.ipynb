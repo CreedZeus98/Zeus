{
 "cells": [
  {
   "attachments": {},
   "cell_type": "markdown",
   "metadata": {},
   "source": [
    "# Function styles based on parameters\n",
    "\n",
    "1. Required parameters\n",
    "2. Named parameters\n",
    "3. Default parameters\n",
    "4. Variable arguments & keyword arguments"
   ]
  },
  {
   "cell_type": "code",
   "execution_count": 1,
   "metadata": {},
   "outputs": [],
   "source": [
    "def mean(a,b,c,d,e):\n",
    "    return (a+b+c+d+e)/5\n"
   ]
  },
  {
   "cell_type": "code",
   "execution_count": 2,
   "metadata": {},
   "outputs": [
    {
     "name": "stdout",
     "output_type": "stream",
     "text": [
      "33.0\n"
     ]
    }
   ],
   "source": [
    "x = mean(11,22,33,44,55)\n",
    "print(x)"
   ]
  },
  {
   "cell_type": "code",
   "execution_count": 3,
   "metadata": {},
   "outputs": [],
   "source": [
    "def mean(a,b,c,d=0,e=0):\n",
    "    return (a+b+c+d+e)/5"
   ]
  },
  {
   "cell_type": "code",
   "execution_count": 4,
   "metadata": {},
   "outputs": [
    {
     "name": "stdout",
     "output_type": "stream",
     "text": [
      "13.2\n",
      "22.0\n",
      "33.0\n"
     ]
    }
   ],
   "source": [
    "print(mean(11,22,33))\n",
    "print(mean(11,22,33,44))\n",
    "print(mean(11,22,33,44,55))"
   ]
  },
  {
   "cell_type": "code",
   "execution_count": 5,
   "metadata": {},
   "outputs": [
    {
     "name": "stdout",
     "output_type": "stream",
     "text": [
      "6.822\n",
      "25.0\n",
      "24.0\n"
     ]
    }
   ],
   "source": [
    "x = mean(b=20, a=12, c=2.11)\n",
    "print(x)\n",
    "y = mean(a=5, b=10, c=10, e=100)\n",
    "print(y)\n",
    "z = mean(2,3,5, e=100,d=10)\n",
    "print(z)"
   ]
  },
  {
   "cell_type": "code",
   "execution_count": 6,
   "metadata": {},
   "outputs": [],
   "source": [
    "def mean_list(numbers):\n",
    "    return sum(numbers)/len(numbers)"
   ]
  },
  {
   "cell_type": "code",
   "execution_count": 7,
   "metadata": {},
   "outputs": [
    {
     "data": {
      "text/plain": [
       "4.0"
      ]
     },
     "execution_count": 7,
     "metadata": {},
     "output_type": "execute_result"
    }
   ],
   "source": [
    "mean_list([1,2,3,4,5,6,4,5,2,3,1,5,8,5,6])"
   ]
  },
  {
   "cell_type": "code",
   "execution_count": 8,
   "metadata": {},
   "outputs": [],
   "source": [
    "def meaner(*nums):\n",
    "    return sum(nums)/len(nums)"
   ]
  },
  {
   "cell_type": "code",
   "execution_count": 9,
   "metadata": {},
   "outputs": [
    {
     "data": {
      "text/plain": [
       "24.8"
      ]
     },
     "execution_count": 9,
     "metadata": {},
     "output_type": "execute_result"
    }
   ],
   "source": [
    "meaner(23,45,6,5,48,5,4,22,5,4,88,99,4,7,5,5,55,11,22,33)"
   ]
  },
  {
   "cell_type": "code",
   "execution_count": 10,
   "metadata": {},
   "outputs": [
    {
     "data": {
      "text/plain": [
       "(',,', 'return', 'total')"
      ]
     },
     "execution_count": 10,
     "metadata": {},
     "output_type": "execute_result"
    }
   ],
   "source": [
    "def multiplier(*args):\n",
    "    total = 1\n",
    "    for arg in args:\n",
    "        print(f'{total} * {arg} = {total*arg}')\n",
    "        total *=arg\n",
    ", ,,   return total"
   ]
  },
  {
   "cell_type": "code",
   "execution_count": 11,
   "metadata": {},
   "outputs": [
    {
     "name": "stdout",
     "output_type": "stream",
     "text": [
      "1 * 2 = 2\n",
      "2 * 4 = 8\n",
      "8 * 5 = 40\n",
      "40 * 6 = 240\n",
      "240 * 5 = 1200\n",
      "1200 * 4 = 4800\n",
      "4800 * 8 = 38400\n",
      "38400 * 2 = 76800\n",
      "76800 * 6 = 460800\n",
      "460800 * 8 = 3686400\n",
      "3686400 * 4 = 14745600\n",
      "14745600 * 2 = 29491200\n",
      "29491200 * 3 = 88473600\n",
      "88473600 * 9 = 796262400\n",
      "796262400 * 7 = 5573836800\n"
     ]
    }
   ],
   "source": [
    "multiplier(2,4,5,6,5,4,8,2,6,8,4,2,3,9,7)"
   ]
  },
  {
   "attachments": {},
   "cell_type": "markdown",
   "metadata": {},
   "source": [
    "# Lambda Expression\n",
    "\n",
    "##### f(x) = x*2 + 1\n",
    "##### g(x,y) = x + y * 3\n",
    "##### f(10)\n",
    "##### f(10,20)"
   ]
  },
  {
   "cell_type": "code",
   "execution_count": 12,
   "metadata": {},
   "outputs": [],
   "source": [
    "f = lambda x : x*2 + 1\n",
    "g = lambda x, y : x + y * 3"
   ]
  },
  {
   "cell_type": "code",
   "execution_count": 13,
   "metadata": {},
   "outputs": [
    {
     "name": "stdout",
     "output_type": "stream",
     "text": [
      "101\n",
      "70\n"
     ]
    }
   ],
   "source": [
    "print(f(50))\n",
    "print(g(10,20))"
   ]
  },
  {
   "cell_type": "code",
   "execution_count": null,
   "metadata": {},
   "outputs": [],
   "source": []
  }
 ],
 "metadata": {
  "kernelspec": {
   "display_name": "base",
   "language": "python",
   "name": "python3"
  },
  "language_info": {
   "codemirror_mode": {
    "name": "ipython",
    "version": 3
   },
   "file_extension": ".py",
   "mimetype": "text/x-python",
   "name": "python",
   "nbconvert_exporter": "python",
   "pygments_lexer": "ipython3",
   "version": "3.10.8"
  },
  "orig_nbformat": 4,
  "vscode": {
   "interpreter": {
    "hash": "8c46ac5aaab4d3c9f2f9be91c3b9b95f2b8ede1f4aae554ca1e34eefcba1468b"
   }
  }
 },
 "nbformat": 4,
 "nbformat_minor": 2
}
